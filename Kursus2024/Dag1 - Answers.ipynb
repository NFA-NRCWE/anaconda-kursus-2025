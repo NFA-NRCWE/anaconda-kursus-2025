{
 "cells": [
  {
   "cell_type": "markdown",
   "metadata": {},
   "source": [
    "## Pythonkursus NFA 16 april 2024\n",
    "\n",
    "Velkommen til dette kursus i python"
   ]
  },
  {
   "cell_type": "markdown",
   "metadata": {},
   "source": [
    "I dag handler om basale programmeringskoncepter, som vil være gavnlige at have indsigt i. \n",
    "Dette vil inkludere \n",
    "\n",
    "- Typer af variable/datastrukturer\n",
    "- Loops\n",
    "- Logik\n",
    "- Fejlmeddelelser \n",
    "- Funktioner\n",
    "- Imports"
   ]
  },
  {
   "cell_type": "markdown",
   "metadata": {},
   "source": [
    "Dette er en såkaldt jupyter notebook, som er en brugervenlig måde at arbejde med python på. En notebook baserer sig på celler (som denne markdown celle), som hver kan producere et output, hvilket gør det nemt og overskueligt at arbejde med data. Du kører en celle ved at trykke ctrl+enter"
   ]
  },
  {
   "cell_type": "markdown",
   "metadata": {},
   "source": [
    "### Hvad er python?\n",
    "Hvordan fungerer sproget, hvad er syntaxen og hvad kan det bruges til?\n",
    "\n",
    "Python er et GPL programmeringssprog (general-purpose language), hvilket blot indikerer at det bliver brugt til mange forskellige ting. Dette inluderer hjemmesider, spil, machine learning, statistisk analyse, apps osv. \n",
    "\n",
    "Syntaxen i python er nærmest designet til at være nem. Udover at være nem at læse baserer den sig også i høj grad på \"indents\", altså fastsatte indhak ved linjeskift. Men der er ikke behov for hverken semikolonner, run statements eller et væld af parenteser. \n",
    "\n"
   ]
  },
  {
   "cell_type": "markdown",
   "metadata": {},
   "source": [
    "### Types og variable\n",
    "\n",
    "Lad os holde det simpelt og sige at der findes to grundlæggende variabeltyper: tal og strings. \n",
    "En tal-variabel er som regel af typen _float_ eller _int_ (for heltal) og en tekstvariabel af typen _str_"
   ]
  },
  {
   "cell_type": "code",
   "execution_count": 3,
   "metadata": {},
   "outputs": [
    {
     "name": "stdout",
     "output_type": "stream",
     "text": [
      "<class 'float'> <class 'str'> <class 'int'>\n"
     ]
    }
   ],
   "source": [
    "a = 5.5\n",
    "b = \"5.5\"\n",
    "c = 5\n",
    "\n",
    "print(type(a), type(b), type(c))"
   ]
  },
  {
   "cell_type": "markdown",
   "metadata": {},
   "source": [
    "**Opgave: \"Hello world\"** <br>\n",
    "Vores første opgave består i, at få python til at printe en lille hilsen. Det gør vi ved at danne en ny variabel, som vi kalder ```msg```. Den variabel skal indeholde hilsenen \"hello world\", og derefter skal vi printe denne hilsen."
   ]
  },
  {
   "cell_type": "code",
   "execution_count": 4,
   "metadata": {},
   "outputs": [
    {
     "name": "stdout",
     "output_type": "stream",
     "text": [
      "hello world\n"
     ]
    }
   ],
   "source": [
    "msg = \"hello world\"\n",
    "print(msg)"
   ]
  },
  {
   "cell_type": "markdown",
   "metadata": {},
   "source": [
    "```print()``` er en funtion vi ofte bruger i python. Det kan være at vi gerne vil se indholdet af en variabel, fordi vores kode ikke virker som vi gerne vil have den til. Det kan også være at vi gerne vil printe en meddelse i nogle bestemte tilfælde. Vi kommer til at bruge denne funktion flittigt igennem dette kursus."
   ]
  },
  {
   "cell_type": "markdown",
   "metadata": {},
   "source": [
    "**Opgave: summér variable af forskellige datatyper** <br>\n",
    "Tal fungerer som man ville forvente: du kan lægge dem sammen, gange dem osv. \n",
    "To strings kan også lægges sammen(+), dette resulterer i en ny string bestående af de to. Men man kan ikke lægge strings og tal sammen. For at gøre dette må vi først ændre i datatyperne. Vi kan fx forsøge at omdanne vores string variabel fra tidligere til en float ved at skrive ```float(b)```. \n",
    "\n",
    "I første celle summered a og b uden at omdanne b. Python reagerer ved at lave en fejlmeddelse. Prøv at kopiere meddelsen fra ```TypeError: ...``` og indsæt det i google. Python er et meget brugt kodesprog, og særligt på [StackOverflow](https://stackoverflow.com/) findes der svar på *næsten* alle Python-relaterede spørgsmål. Når du har fundet et svar på Python fejlmeddelsen, kan du i cellen nedenfor se om du kan modificere koden, og summere a og b på en anden måde."
   ]
  },
  {
   "cell_type": "code",
   "execution_count": 15,
   "metadata": {},
   "outputs": [
    {
     "ename": "TypeError",
     "evalue": "unsupported operand type(s) for +: 'float' and 'str'",
     "output_type": "error",
     "traceback": [
      "\u001b[1;31m---------------------------------------------------------------------------\u001b[0m",
      "\u001b[1;31mTypeError\u001b[0m                                 Traceback (most recent call last)",
      "Cell \u001b[1;32mIn[15], line 2\u001b[0m\n\u001b[0;32m      1\u001b[0m \u001b[38;5;66;03m# Summér a og b (printer fejlmeddelse)\u001b[39;00m\n\u001b[1;32m----> 2\u001b[0m a\u001b[38;5;241m+\u001b[39mb\n",
      "\u001b[1;31mTypeError\u001b[0m: unsupported operand type(s) for +: 'float' and 'str'"
     ]
    }
   ],
   "source": [
    "# Summér a og b (printer fejlmeddelse)\n",
    "a+b"
   ]
  },
  {
   "cell_type": "code",
   "execution_count": 8,
   "metadata": {},
   "outputs": [
    {
     "data": {
      "text/plain": [
       "11.0"
      ]
     },
     "execution_count": 8,
     "metadata": {},
     "output_type": "execute_result"
    }
   ],
   "source": [
    "# Summér a og b, hvor b omdannes til float\n",
    "a + float(b)"
   ]
  },
  {
   "cell_type": "markdown",
   "metadata": {},
   "source": [
    "**Opgave: Et lidt sværere regnestykke** <br>\n",
    "Givet ét ciffer, n, skriv det manglende kode så nnn*(n+nn) bliver printet.\n",
    "\n",
    "Hint: brug funktionerne int() og str() til at konvertere mellem tal og string"
   ]
  },
  {
   "cell_type": "code",
   "execution_count": 18,
   "metadata": {},
   "outputs": [
    {
     "name": "stdout",
     "output_type": "stream",
     "text": [
      "5328\n"
     ]
    }
   ],
   "source": [
    "n = 2\n",
    "\n",
    "n1 = n\n",
    "n2 = int(str(n) + str(n))\n",
    "n3 = int(str(n) + str(n) + str(n))\n",
    "\n",
    "output = n3*(n1+n2)\n",
    "print(output)"
   ]
  },
  {
   "cell_type": "markdown",
   "metadata": {},
   "source": [
    "### Lister og loops\n",
    "Hvad er lister, hvordan kan man bruge dem?"
   ]
  },
  {
   "cell_type": "markdown",
   "metadata": {},
   "source": [
    "En liste er en et objekt som indeholder flere objekter. I python kan en liste bestå af alle typer objekter. Det kan både være en liste kun med tal, en liste kun med tekst eller en helt tredje type objekter. Det kan også være en blanding af disse objekter. Se fx de tre lister nedenfor."
   ]
  },
  {
   "cell_type": "code",
   "execution_count": 3,
   "metadata": {},
   "outputs": [],
   "source": [
    "num_list = [1,2,3,4,5,6]\n",
    "str_list = ['a','b','c','d','e','f']\n",
    "mix_list = [1,'a',2,'b',3,'c',4,'d',5,'e',6,'f']\n"
   ]
  },
  {
   "cell_type": "markdown",
   "metadata": {},
   "source": [
    "Måden vi tilgår elementer i en liste kaldes indeksering. Python er 0-indekseret (i modsætning til R og Matlab som er 1-indekseret), hvilket vil sige at det første element af en liste befinder sig på plads _0_. En smart feature i python er egenskaben til at indeksere både forlæns og baglæns. Det første element er på plads _0_, men det sidste element er på plads _-1_ (og selvfølgelig på plads _len(list)-1_, hvor _len(list)_ er antallet af elementer i listen.) I python vælger man elementer med kantede parenteser, f.eks. er det n'te element af en liste hentet ved `liste[n-1]`. \n",
    "\n",
    "__Opgave: Tilgå det første og sidste element af en af de definerede lister og indsæt i en ny liste:__"
   ]
  },
  {
   "cell_type": "code",
   "execution_count": 4,
   "metadata": {},
   "outputs": [
    {
     "data": {
      "text/plain": [
       "['a', 'f']"
      ]
     },
     "execution_count": 4,
     "metadata": {},
     "output_type": "execute_result"
    }
   ],
   "source": [
    "[str_list[0], str_list[-1]]"
   ]
  },
  {
   "cell_type": "markdown",
   "metadata": {},
   "source": [
    "Vi kan også \"slice\" lister eller vælge enkelte elementer ud, ved at indeksere lister. Det gør vi ved at tilføje kantede parenteser efter en liste:\n",
    "```\n",
    "element = list[det vi vil indeksere] \n",
    "```\n",
    "Vi vælger elementer ved at referere til deres placering i listen. Vi kan vælge en række sammenhængende elementer fra listen ved at bruge \":\", fx \"1:3\". I python er det ikke til og med det angivne element, så når vi indekserer \"1:3\", får vi det andet og tredje element i listen. Et \":\" alene giver hele listen (hvilket er praktisk når man har flere dimensioner)\n",
    "\n",
    "__Opgave__\n",
    "\n",
    "I boksen nedenfor skal du lave tre nye lister ud af de lister vi har i forvejen, således at du får:\n",
    "```\n",
    "new_num_list = [3,4,5,6]\n",
    "new_str_list = ['a','b','c']\n",
    "new_mix_list = ['b',3,'c',4,'d',5,'e']\n",
    "```\n",
    "\n",
    "Når du har lavet listerne skal du printe dem ud."
   ]
  },
  {
   "cell_type": "code",
   "execution_count": 5,
   "metadata": {},
   "outputs": [
    {
     "name": "stdout",
     "output_type": "stream",
     "text": [
      "new_num_list = [3, 4, 5, 6]\n",
      "new_str_list = ['a', 'b', 'c']\n",
      "new_mix_list = ['b', 3, 'c', 4, 'd', 5, 'e']\n"
     ]
    }
   ],
   "source": [
    "# Skriv dine list-slices nedenfor her\n",
    "new_num_list = num_list[2:]\n",
    "new_str_list = str_list[:3]\n",
    "new_mix_list = mix_list[3:10]\n",
    "\n",
    "print(f'{new_num_list = }')\n",
    "print(f'{new_str_list = }')\n",
    "print(f'{new_mix_list = }')"
   ]
  },
  {
   "cell_type": "markdown",
   "metadata": {},
   "source": [
    "Lister er smarte, bl.a fordi man kan iterere over dem med loops. Det gør man med såkaldte for-loops, som betyder \"for hvert element i listen vil jeg gerne gøre et eller andet\". Når vi laver et for-loop definerer vi en lokal variabel (fx \"i\") som indikerer det element vi har fat i. Vi kan kalde den lokale variabel lige hvad vi vil, og gerne noget der hjælper os med at huske hvad vi har fat i. Nedenfor looper vi over listen med bogstaver og printer hvert bogstav.\n",
    "\n",
    "Bemærk at det er muligt at loope igennem på forskellige måder. Som regel bruger man den første, men det er ikke altid muligt."
   ]
  },
  {
   "cell_type": "code",
   "execution_count": 7,
   "metadata": {},
   "outputs": [
    {
     "name": "stdout",
     "output_type": "stream",
     "text": [
      "a\n",
      "b\n",
      "c\n",
      "d\n",
      "e\n",
      "f\n",
      "\n",
      "\n",
      "a\n",
      "b\n",
      "c\n",
      "d\n",
      "e\n",
      "f\n"
     ]
    }
   ],
   "source": [
    "for letter in str_list:\n",
    "    print(letter)\n",
    "\n",
    "print('\\n')\n",
    "\n",
    "for i in range(len(str_list)):\n",
    "    print(str_list[i])"
   ]
  },
  {
   "cell_type": "markdown",
   "metadata": {},
   "source": [
    "Strukturen på et for loop er, at vi først definerer hvad vi \"looper\" over, derefter kommer der en blok som er forskudt som beskriver alt det vi vil gøre i hvert iteration. Når vi \"fjerner\" forskydelsen igen, så markerer vi at loopet er slut.\n",
    "```\n",
    "for element in list:\n",
    "    første step i vores iteration\n",
    "    andet step i vores iteration\n",
    "\n",
    "noget der sker efter loopet er færdigt\n",
    "```\n",
    "__Opgave__\n",
    "\n",
    "I boksen nedenfor skal du prøve at lave et for-loop som tager hvert element i _num_list_, ganger tallet med to, og dernæst lægge resultatet i en ny liste. \n",
    "\n",
    "Hint: Du kan lave en tom liste og bruge ```append()``` til at tilføje til listen. Husk, google er din ven hvis det er svært."
   ]
  },
  {
   "cell_type": "code",
   "execution_count": 8,
   "metadata": {},
   "outputs": [
    {
     "name": "stdout",
     "output_type": "stream",
     "text": [
      "[2, 4, 6, 8, 10, 12]\n"
     ]
    }
   ],
   "source": [
    "# Skriv dit for-loop nedenfor her\n",
    "res_list = []\n",
    "for num in num_list:\n",
    "    res = num*2\n",
    "    res_list.append(res)\n",
    "    # if res > 7:\n",
    "    #     print(res)\n",
    "print(res_list)"
   ]
  },
  {
   "cell_type": "markdown",
   "metadata": {},
   "source": [
    "#### List comprehension\n",
    "Det er også muligt at kombinere lister og loops i en kompakt form kaldet _list comprehension_. Her looper vi igennem en liste i et enkelt statement. Syntaxen for list comprehensions ser sådan ud: "
   ]
  },
  {
   "cell_type": "code",
   "execution_count": null,
   "metadata": {},
   "outputs": [],
   "source": [
    "[x for x in liste]"
   ]
  },
  {
   "cell_type": "markdown",
   "metadata": {},
   "source": [
    "__Opgave__\n",
    "\n",
    "Gentag nu øvelsen overfor, hvor du har ganget hvert element i _num\\_list_ og gemt i en ny liste, men denne gang med list comprehension."
   ]
  },
  {
   "cell_type": "code",
   "execution_count": 1,
   "metadata": {},
   "outputs": [],
   "source": [
    "# skriv din kode her"
   ]
  },
  {
   "cell_type": "markdown",
   "metadata": {},
   "source": [
    "### Logik\n",
    "Nu skal det handle om logiske statements. Det er essentielt i programmering at kunne checke om noget i virkeligheden er som man tror det er. \n",
    "\n",
    "Der findes en håndfuld operatorer i python til sammenligning af objekter: \n",
    "- == : True når begge elementer er ens\n",
    "- != : True når de to elementer er forskellige\n",
    "- \\> og <: True når det ene element er strengt større \n",
    "- \\>= og <= : True når det ene element er større end eller lig med\n",
    "\n",
    "De outputs vi får af de logiske tests (altså True eller False) kalder vi også for booleans (forkortet som: bool), som er en ny type variabel. Vi skriver altid True og False med stort forbogstav, når vi vil fortælle Python at vi har med booleans at gøre. I cellen nedenfor har vi lavet nogle simple eksempler på logiske tests, som giver et boolen output. "
   ]
  },
  {
   "cell_type": "code",
   "execution_count": null,
   "metadata": {},
   "outputs": [
    {
     "name": "stdout",
     "output_type": "stream",
     "text": [
      "True\n",
      "False\n",
      "<class 'bool'>\n"
     ]
    }
   ],
   "source": [
    "# Vi kan printe outputtet af en logisk test\n",
    "print(4/2 == 2)\n",
    "\n",
    "# Vi kan også gemme outputtet fra en logisk test i en variabel\n",
    "logical_test = 5*2 == 9\n",
    "# Her kan vi så printe resultatet\n",
    "print(logical_test)\n",
    "# Og vi kan se at typen af resultatet er en boolean\n",
    "print(type(logical_test))"
   ]
  },
  {
   "cell_type": "markdown",
   "metadata": {},
   "source": [
    "\n",
    "Alt efter hvilke objekter du sammenligner, vil operatorerne opføre sig forskelligt. \n",
    "\n",
    "Desuden findes findes der logik-operatorer, når man skal kombinere flere statements: \n",
    "- 'and' : True når begge statements er True\n",
    "- 'or'  : True når en af statements er True (xor kan defineres ud fra and og or)\n",
    "- 'not' : Sættes foran et statement for at negere det.\n",
    "\n",
    "\n",
    "Måden man ofte bruger logiske operatorer er i if-else statements. I python er et if-statement defineret ved den følgende syntax:"
   ]
  },
  {
   "cell_type": "code",
   "execution_count": null,
   "metadata": {},
   "outputs": [],
   "source": [
    "if this:\n",
    "    #do something\n",
    "elif that:\n",
    "    #do something else\n",
    "else:\n",
    "    #whatever is not caught by the if statement ends up here"
   ]
  },
  {
   "cell_type": "markdown",
   "metadata": {},
   "source": [
    "Ovenfor skal ```this```, ```that```, ```do something``` og ```do something else``` erstattes af faktisk Python kode. Læg mærke til at vi bruger kolon (:) og \"indents\" til at markere hvilke kodebidder der hører til hvilke statements. Et if-else statement skal altid have første del ```if this:``` med. Derefter kan den have et valgfrit antal ```elif that:``` dele med, alt efter hvor mange forskellige scenarier man skal håndtere. Slutteligt kan man et ```else:``` statement med, som samler alle de scenarier op, der ikke er blevet samlet op af ```if``` og ```elif```. Men både ```elif``` og ```else``` kan udelades, hvis de ikke er relevante"
   ]
  },
  {
   "cell_type": "markdown",
   "metadata": {},
   "source": [
    "**Opgave: Logik og if-else statements:**\n",
    "\n",
    "Lav en variabel ```x``` af en type du selv vælger. Skriv et if-else statement som tjekker om typen af variablen er en float. Hvis den er, så skal koden printe en besked der siger \"denne variabel er en float\", og hvis ikke skal den printe en besked der siger \"denne variabel er ikke en float\"."
   ]
  },
  {
   "cell_type": "code",
   "execution_count": 26,
   "metadata": {},
   "outputs": [
    {
     "name": "stdout",
     "output_type": "stream",
     "text": [
      "denne variabel er en float\n"
     ]
    }
   ],
   "source": [
    "x = 123.456\n",
    "\n",
    "if type(x) == float:\n",
    "    print(\"denne variabel er en float\")\n",
    "else:\n",
    "    print(\"denne variabel er ikke en float\")"
   ]
  },
  {
   "cell_type": "markdown",
   "metadata": {},
   "source": [
    "### Funktioner\n",
    "\n",
    "Funktioner er en måde organisere sin kode på, som gør det nemt når du skal gentage kode igen og igen. \n",
    "I python er en funktion defineret som:"
   ]
  },
  {
   "cell_type": "code",
   "execution_count": null,
   "metadata": {},
   "outputs": [],
   "source": [
    "def myfunction(input1, input2): \n",
    "    #write some code here\n",
    "\n",
    "    return output #what the functions spits out"
   ]
  },
  {
   "cell_type": "markdown",
   "metadata": {},
   "source": [
    "I funktionen ovenfor har vi altså to inputs ```input1``` og ```input2```. Vi kan referere til disse inputs inde i funktionen, som er alt det vi skriver mellem ```myfunction(input1,input2):``` og ```return```, som markerer afslutningen af funktionen.\n",
    "\n",
    "For at give en ide om, hvordan en funktion fungerer har vi lavet et eksempel nedenfor"
   ]
  },
  {
   "cell_type": "code",
   "execution_count": 27,
   "metadata": {},
   "outputs": [
    {
     "name": "stdout",
     "output_type": "stream",
     "text": [
      "Hello how are you?\n"
     ]
    }
   ],
   "source": [
    "#Example function\n",
    "def combine_strings(str1, str2):\n",
    "    output = str1 + \" \" + str2\n",
    "    return output\n",
    "\n",
    "msg1 = \"Hello\"\n",
    "msg2 = \"how are you?\"\n",
    "\n",
    "comb_msg = combine_strings(msg1, msg2)"
   ]
  },
  {
   "cell_type": "markdown",
   "metadata": {},
   "source": [
    "Lad os gennemgå eksemplet ovenfor skridt for skridt:\n",
    "1. Vi starter definitionen af vores funktion med ```def combine_strings(str1, str2):```. Her definerer vi at navnet på funktionen er ```combine_strings``` og at den kræver to inputs ```str1``` og ```str2```.\n",
    "2. Inde i funktionen danner vi en ny variabel, som vi kalder ```output```. Den består af de to inputs med et mellemrum imellem.\n",
    "3. Vi afslutter funktionen med ```return output```, hvor vi definerer at resultatet af at køre funktionen er indholdet af den variabel vi har dannet i funktionen ```output```.\n",
    "4. Herefter danner vi to string-variable, ```msg1 = \"Hello\"``` og ```msg2 = \"how are you?\"```.\n",
    "5. Nu kører vi så funktionen. Vi indsætter de to variable vi har dannet, ```msg1``` og ```msg2``` i funktionen. Funktionen læser de to inputs i rækkefølge siger dermed \"str1 er lig msg1\" og \"str2 er lig msg2\". Vi gemmer outputtet af funktionen i en ny variabel ```comb_msg```.\n",
    "\n",
    "__Opgave__\n",
    "\n",
    "Nedenfor kan du printe variablen ```comb_msg```, men inden du gør det, kan du prøve at se om du kan gætte hvad variablen indeholder. Skriv dit gæt i variable ```your_guess``` og lav et if-else statement, som tjekker om dit gæt er rigtigt eller forkert og printer passende beskeder ud."
   ]
  },
  {
   "cell_type": "code",
   "execution_count": 32,
   "metadata": {},
   "outputs": [
    {
     "name": "stdout",
     "output_type": "stream",
     "text": [
      "Jeg gættede rigtigt!!!\n"
     ]
    }
   ],
   "source": [
    "# Skriv dit gæt her\n",
    "\n",
    "your_guess = \"Hello how are you?\"\n",
    "\n",
    "if your_guess == comb_msg:\n",
    "    print(\"Jeg gættede rigtigt!!!\")\n",
    "else:\n",
    "    print(\"Jeg gættede forkert, lad mig prøve igen\")"
   ]
  },
  {
   "cell_type": "code",
   "execution_count": 28,
   "metadata": {},
   "outputs": [
    {
     "name": "stdout",
     "output_type": "stream",
     "text": [
      "Hello how are you?\n"
     ]
    }
   ],
   "source": [
    "# Print comb_msg her\n",
    "\n",
    "print(comb_msg)"
   ]
  },
  {
   "cell_type": "markdown",
   "metadata": {},
   "source": [
    "Funktionen ovenfor er navngivet ```combine_strings```. Som navnet antyder, så antager funktionen at inputtet er string-variable. Men hvad sker der hvis nu vi inputter variable som ikke er strings? I cellen nedenfor skal du danne to nye variable, som ikke er strings, og prøve at indsætte dem i funktionen. Hvad sker der? Kan du genkende fejlmeddelsen fra tidligere?"
   ]
  },
  {
   "cell_type": "code",
   "execution_count": 33,
   "metadata": {},
   "outputs": [
    {
     "ename": "TypeError",
     "evalue": "unsupported operand type(s) for +: 'int' and 'str'",
     "output_type": "error",
     "traceback": [
      "\u001b[1;31m---------------------------------------------------------------------------\u001b[0m",
      "\u001b[1;31mTypeError\u001b[0m                                 Traceback (most recent call last)",
      "Cell \u001b[1;32mIn[33], line 4\u001b[0m\n\u001b[0;32m      1\u001b[0m num1 \u001b[38;5;241m=\u001b[39m \u001b[38;5;241m1\u001b[39m\n\u001b[0;32m      2\u001b[0m num2 \u001b[38;5;241m=\u001b[39m \u001b[38;5;241m3\u001b[39m\n\u001b[1;32m----> 4\u001b[0m comb_num \u001b[38;5;241m=\u001b[39m combine_strings(num1, num2)\n",
      "Cell \u001b[1;32mIn[27], line 3\u001b[0m, in \u001b[0;36mcombine_strings\u001b[1;34m(str1, str2)\u001b[0m\n\u001b[0;32m      2\u001b[0m \u001b[38;5;28;01mdef\u001b[39;00m \u001b[38;5;21mcombine_strings\u001b[39m(str1, str2):\n\u001b[1;32m----> 3\u001b[0m     output \u001b[38;5;241m=\u001b[39m str1 \u001b[38;5;241m+\u001b[39m \u001b[38;5;124m\"\u001b[39m\u001b[38;5;124m \u001b[39m\u001b[38;5;124m\"\u001b[39m \u001b[38;5;241m+\u001b[39m str2\n\u001b[0;32m      4\u001b[0m     \u001b[38;5;28;01mreturn\u001b[39;00m output\n",
      "\u001b[1;31mTypeError\u001b[0m: unsupported operand type(s) for +: 'int' and 'str'"
     ]
    }
   ],
   "source": [
    "num1 = 1\n",
    "num2 = 3\n",
    "\n",
    "comb_num = combine_strings(num1, num2)"
   ]
  },
  {
   "cell_type": "markdown",
   "metadata": {},
   "source": [
    "Vi skal nu modificere vores funktion, så vi ikke ender i en fejlmeddelse, hvis inputtet ikke er strings. Det kan vi gøre ved at definere en ny funktion ```combine_strings2```, og indsætte nogle checks af inputs. Her kan vi gøre brug af if-else statements, og få funktionen til at returnere en string med en valgfri besked, hvis inputsene ikke er strings. Prøv derefter din nye funktion af med forskellige typer af inputs, for at se om funktionen fungerer som den skal."
   ]
  },
  {
   "cell_type": "code",
   "execution_count": 36,
   "metadata": {},
   "outputs": [
    {
     "name": "stdout",
     "output_type": "stream",
     "text": [
      "Inputs er ikke strings. Det skal de altså være!\n"
     ]
    }
   ],
   "source": [
    "def combine_strings2(str1, str2):\n",
    "    if type(str1) != str or type(str2) != str:\n",
    "        output = \"Inputs er ikke strings. Det skal de altså være!\"\n",
    "        return output\n",
    "    else:\n",
    "        output = str1 + \" \" + str2\n",
    "        return output\n",
    "    \n",
    "comb_num2 = combine_strings2(num1, num2)\n",
    "print(comb_num2)"
   ]
  },
  {
   "cell_type": "markdown",
   "metadata": {},
   "source": [
    "### Så skal vi til at kombinere de ting vi har lært!\n",
    "\n",
    "I resten af denne notebook vil vi stille en række opgaver, som kombinerer de forskellige koncepter, som vi har introduceret. Opgaverne progresserer i sværhedsgrad, og tanken er ikke at man nødvendigvis skal nå at blive færdig inden frokost. Tag notebooken med, og arbejd videre når du har tid. Vi rundsender også en version med løsninger, som man kan bruge, hvis man sidder fast i en opgave.\n",
    "\n",
    "Og så skal du endelig bare spørge så meget der er brug for. Der findes ingen dumme spørgsmål! Og husk: Google er din ven!! :)"
   ]
  },
  {
   "cell_type": "markdown",
   "metadata": {},
   "source": [
    "__Opgave__\n",
    "\n",
    "Lav en funktion som har to inputs: en liste `list1` og et tal `num1`. Funktionen skal gennemgå alle elementerne i listen, og de elementer som både er tal og højere end `num1` skal gemmes i en ny liste, som funktionen skal returnere. Brug de koncepter vi har lært omkring lister, loops, logiske tests osv.\n",
    "\n",
    "Hvis du bruger den prædefinerede liste og tal, så skal outputtet være `[12353, 11, 42]`, men prøv også gerne andre lister og tal af, som du selv laver, for at tjekke om dit input check fungerer. "
   ]
  },
  {
   "cell_type": "code",
   "execution_count": 11,
   "metadata": {},
   "outputs": [
    {
     "name": "stdout",
     "output_type": "stream",
     "text": [
      "[12353, 11, 42]\n"
     ]
    }
   ],
   "source": [
    "# Listen og tallet til funktionen (prædefineret)\n",
    "mylist = [3,7,'abc','hej med dig',12353,-2,'cde',11,42]\n",
    "mynum = 10\n",
    "\n",
    "def return_nums(list1, num1):\n",
    "    if type(list1) != list or (type(num1) != float and type(num1) != int):\n",
    "        output = \"Inputs skal være hhv. liste og et tal (float eller int)\"\n",
    "        return output\n",
    "    else:\n",
    "        output = []\n",
    "        for element in list1:\n",
    "            if (type(element) == float or type(element) == int):\n",
    "                if element > num1:\n",
    "                    output.append(element)\n",
    "        return output\n",
    "    \n",
    "output_list = return_nums(mylist,mynum)\n",
    "\n",
    "print(output_list)"
   ]
  },
  {
   "cell_type": "markdown",
   "metadata": {},
   "source": [
    "__Opgave__\n",
    "\n",
    "Skriv en funktion som får en tekststreng som input. Funktionen skal så tælle hvor mange ord der er i sætningen, tælle hvor mange bogstaver der i det længste ord i sætningen og printe det længste ord og antallet af bogstaver i det længste ord.\n",
    "\n",
    "Eksempel: `Input: \"Jeg er igang med at lære Python\"` -> `Output: \"Antal ord: 7, længste ord: \"Python\" - 6 bogstaver`.\n",
    "\n",
    "Hint: Strings i Python har en indbygget funktion der hedder `.split()`. Desuden kan man bruge f-strings (Google for mere info) til at kombinere tekst med variable."
   ]
  },
  {
   "cell_type": "code",
   "execution_count": 9,
   "metadata": {},
   "outputs": [
    {
     "name": "stdout",
     "output_type": "stream",
     "text": [
      "Antal ord: 7, længste ord: 'Python' - 6\n"
     ]
    }
   ],
   "source": [
    "def count_words(str1):\n",
    "    words = str1.split()\n",
    "    no_words = len(words)\n",
    "    length = 0\n",
    "    longest_word = ''\n",
    "    for word in words:\n",
    "        if len(word) > length:\n",
    "            length = len(word)\n",
    "            longest_word=word\n",
    "    print(f\"Antal ord: {no_words}, længste ord: '{longest_word}' - {length}\")\n",
    "\n",
    "mystr = \"Jeg er igang med at lære Python\"\n",
    "count_words(mystr)"
   ]
  },
  {
   "cell_type": "markdown",
   "metadata": {},
   "source": [
    "#### Nyt koncept: NumPy\n",
    "\n",
    "Når du er kommet hertil, så er det tid til at introducere dig for noget nyt: importere pakker. Python har en række indbyggede funktioner, og vi har allerede brugt en række af dem: `print()` og `split()` fx, men er en stor del af Python's styrke ligger i funktioner der ikke er indbygget i Python. De funktioner importerer man efter behov, og der findes et (næsten) uudtømmeligt hav af pakker man kan importere. Det er en stor del af Python's styrke, da der findes rigtig mange nyttige pakker. En af de måske mest brugte pakker er [NumPy](https://numpy.org/), som bl.a. muliggør hurtig matrice- og vektorregning, hurtig generering af lister af tal mm. I de følgende øvelser kommer vi til at gøre brug af NumPy, så vi starter her med at importere pakken:\n"
   ]
  },
  {
   "cell_type": "code",
   "execution_count": null,
   "metadata": {},
   "outputs": [],
   "source": [
    "import numpy as np"
   ]
  },
  {
   "cell_type": "markdown",
   "metadata": {},
   "source": [
    "I koden ovenfor importerer vi `numpy as np`, hvilket betyder at når vi skal referere til pakken, kan vi nøjes med at skrive `np` i stedet for at skulle skrive `numpy`.\n",
    "\n",
    "Nedenfor bruger vi pakkens klasse `random`, som har forskellige funktioner til at generere \"tilfældige\" tal."
   ]
  },
  {
   "cell_type": "code",
   "execution_count": null,
   "metadata": {},
   "outputs": [
    {
     "name": "stdout",
     "output_type": "stream",
     "text": [
      "55\n"
     ]
    }
   ],
   "source": [
    "random_number = np.random.randint(0,100)\n",
    "print(random_number)"
   ]
  },
  {
   "cell_type": "markdown",
   "metadata": {},
   "source": [
    "NumPy har utroligt mange funktioner, som man kan læse om i deres [dokumentation](https://numpy.org/doc/stable/reference/) og i deres [guide til begyndere](https://numpy.org/doc/stable/user/absolute_beginners.html)."
   ]
  },
  {
   "cell_type": "markdown",
   "metadata": {},
   "source": [
    "__Opgave__\n",
    "\n",
    "Brug NumPy til at generere en liste af 100 tilfældige tal mellem 0 og 100 som gemmes i en variabel for sig selv. Sortér også listen af tal.\n",
    "\n",
    "Generér derefter et enkelt tilfældigt tal og gem i en variabel. Tjek derefter om det ene tilfældige tal også findes i listen af tilfældige tal. Brug NumPy's dokumentation som hjælp."
   ]
  },
  {
   "cell_type": "code",
   "execution_count": null,
   "metadata": {},
   "outputs": [],
   "source": [
    "# Skriv din kode her\n",
    "sorted_list = np.sort(np.random.randint(0, 100, 100)).tolist()\n",
    "number_to_find = np.random.randint(0, 100)\n",
    "print(number_to_find, number_to_find in sorted_list)"
   ]
  },
  {
   "cell_type": "markdown",
   "metadata": {},
   "source": [
    "__Opgave__\n",
    "\n",
    "Skriv en funktion som har en liste af tal `sorted_list` og et enkelt tal `number_to_find` som input. Funktionen skal, ved brug af et loop, afgøre om `number_to_find` er i `sorted_list`.\n",
    "\n",
    "Genbrug listen og tallet fra opgaven ovenfor."
   ]
  },
  {
   "cell_type": "code",
   "execution_count": 298,
   "metadata": {},
   "outputs": [
    {
     "name": "stdout",
     "output_type": "stream",
     "text": [
      "True\n"
     ]
    }
   ],
   "source": [
    "# Skriv din kode her\n",
    "def find_number_loop(sorted_list, number_to_find):\n",
    "    for num in sorted_list:\n",
    "        if num == number_to_find:\n",
    "            return True\n",
    "    return False\n",
    "\n",
    "print(find_number_loop(sorted_list, number_to_find))\n"
   ]
  },
  {
   "cell_type": "markdown",
   "metadata": {},
   "source": [
    "__Opgave__\n",
    "\n",
    "Når du har skrevet en simpel funktion, kan du bagefter prøve at udnytte strukturen af listen til at søge på en smart måde (binary search). Den lineære søgning du formentlig lige har lavet har en performance på O(n), dvs. at vi kigger på alle elementer (potentielt). Binær søgning kører i O(log n) tid\n",
    "\n",
    "Hertil kan du bruge den anden type loop der findes, kaldet et _while_-loop. Strukturen af et _while_-loop kunne f.eks se sådan her ud:"
   ]
  },
  {
   "cell_type": "code",
   "execution_count": null,
   "metadata": {},
   "outputs": [],
   "source": [
    "while (logical_statement == True):\n",
    "    #do something in loop\n",
    "    if something:\n",
    "        logical_statement = False #break loop when something happens."
   ]
  },
  {
   "cell_type": "code",
   "execution_count": 303,
   "metadata": {},
   "outputs": [
    {
     "name": "stdout",
     "output_type": "stream",
     "text": [
      "0\n",
      "49\n",
      "99\n",
      "\n",
      "\n",
      "49\n",
      "74\n",
      "99\n",
      "\n",
      "\n",
      "74\n",
      "86\n",
      "99\n",
      "\n",
      "\n",
      "74\n",
      "80\n",
      "86\n",
      "\n",
      "\n",
      "74\n",
      "77\n",
      "80\n",
      "\n",
      "\n",
      "77\n",
      "78\n",
      "80\n",
      "\n",
      "\n",
      "78\n",
      "79\n",
      "80\n",
      "\n",
      "\n",
      "True\n"
     ]
    }
   ],
   "source": [
    "\n",
    "\n",
    "def find_number_binary_search(sorted_list, number_to_find):\n",
    "\n",
    "    min_ind = 0\n",
    "    max_ind = len(sorted_list)-1\n",
    "    #mid_ind = int((max_ind+min_ind)/2)\n",
    "    found = False\n",
    "    \n",
    "    while min_ind < max_ind:\n",
    "        mid_ind = int((max_ind+min_ind)/2)\n",
    "        print(min_ind)\n",
    "        print(mid_ind)\n",
    "        print(max_ind)\n",
    "        print('\\n')\n",
    "        #check if the middle element of our ordered list is the element we are looking for\n",
    "        if sorted_list[mid_ind] == number_to_find:\n",
    "            found = True\n",
    "            return found\n",
    "        elif sorted_list[mid_ind] < number_to_find:\n",
    "            min_ind = mid_ind\n",
    "            found = False\n",
    "        elif sorted_list[mid_ind] > number_to_find:\n",
    "            max_ind = mid_ind\n",
    "            found = False\n",
    "        \n",
    "    return found\n",
    "\n",
    "print(find_number_binary_search(sorted_list, number_to_find))"
   ]
  },
  {
   "cell_type": "markdown",
   "metadata": {},
   "source": [
    "### Project Euler\n",
    "Project Euler er en database af matematikrelaterede opgaver, hvor de simpleste af dem egner sig godt til at lære at implementere programmeringskoncepter. \n",
    "\n",
    "__Opgave: Første euler problem__\n",
    "\n",
    "If we list all the natural numbers below 10 that are multiples of 3 or 5, we get 3, 5, 6 and 9. The sum of these multiples is 23.\n",
    "\n",
    "Find the sum of all the multiples of 3 or 5 below 1000.\n",
    "\n",
    "Hint: Du kan finde ud af om et tal går op i et andet tal ved brug af modulo-operatoren. Men der findes også andre måder at løse opgaven på. "
   ]
  },
  {
   "cell_type": "code",
   "execution_count": 6,
   "metadata": {},
   "outputs": [
    {
     "data": {
      "text/plain": [
       "467"
      ]
     },
     "execution_count": 6,
     "metadata": {},
     "output_type": "execute_result"
    }
   ],
   "source": [
    "s=0\n",
    "for i in range(1000):\n",
    "    if (i%3 == 0) or (i%5 == 0):\n",
    "        s += 1\n",
    "\n",
    "\n",
    "s=0\n",
    "for i in range(1000):\n",
    "    if (i/3 == i//3) or (i/5 == i//5):\n",
    "        s += 1\n",
    "s"
   ]
  },
  {
   "cell_type": "markdown",
   "metadata": {},
   "source": [
    "__Opgave: Et andet euler problem__\n",
    "\n",
    "A palindromic number reads the same both ways. The largest palindrome made from the product of two \n",
    "2-digit numbers is 9009 = 91*99\n",
    "\n",
    "\n",
    "Find the largest palindrome made from the product of two \n",
    "3-digit numbers.\n"
   ]
  },
  {
   "cell_type": "code",
   "execution_count": 22,
   "metadata": {},
   "outputs": [
    {
     "data": {
      "text/plain": [
       "906609"
      ]
     },
     "execution_count": 22,
     "metadata": {},
     "output_type": "execute_result"
    }
   ],
   "source": [
    "def isitapalindrome(maybepal):\n",
    "    maybepal = str(maybepal)\n",
    "    palindrome = True\n",
    "    k = 0\n",
    "    while palindrome == True:\n",
    "        if maybepal[k] == maybepal[-(k+1)]:\n",
    "            palindrome = True\n",
    "        else:\n",
    "            palindrome = False\n",
    "        k += 1\n",
    "        if k == int(len(maybepal)/2):\n",
    "            break\n",
    "    return palindrome\n",
    "\n",
    "largestpalindrome = 0\n",
    "numberofpalindromes = 0\n",
    "\n",
    "for i in range(100,1000):\n",
    "    for j in range(100,1000):\n",
    "        prod = i*j\n",
    "        palindrome = isitapalindrome(prod)\n",
    "        if palindrome:\n",
    "            numberofpalindromes += 1\n",
    "            if prod > largestpalindrome:\n",
    "                #print(prod, i, j)\n",
    "                largestpalindrome = prod\n",
    "\n",
    "largestpalindrome"
   ]
  },
  {
   "cell_type": "markdown",
   "metadata": {},
   "source": [
    "### FÆRDIG ALLEREDE?\n",
    "Find mange flere Python udfordringer her:\n",
    "- [Practice Python](https://www.practicepython.org/exercises/)\n",
    "- [Project Euler](https://projecteuler.net/) \n",
    "- [DataCamp](https://www.datacamp.com/)"
   ]
  }
 ],
 "metadata": {
  "kernelspec": {
   "display_name": "Python 3",
   "language": "python",
   "name": "python3"
  },
  "language_info": {
   "codemirror_mode": {
    "name": "ipython",
    "version": 3
   },
   "file_extension": ".py",
   "mimetype": "text/x-python",
   "name": "python",
   "nbconvert_exporter": "python",
   "pygments_lexer": "ipython3",
   "version": "3.11.4"
  }
 },
 "nbformat": 4,
 "nbformat_minor": 2
}
